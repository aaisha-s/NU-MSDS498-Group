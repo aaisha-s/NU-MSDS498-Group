{
 "cells": [
  {
   "cell_type": "code",
   "execution_count": 44,
   "metadata": {},
   "outputs": [],
   "source": [
    "import csv\n",
    "import boto3\n",
    "\n",
    "# reading in the saved credential file\n",
    "with open('rekog_demo_secret_credentials.csv', 'r') as input:\n",
    "    next(input) #skip first row since it's just column names\n",
    "    reader = csv.reader(input)\n",
    "    for line in reader:\n",
    "        access_key_id = line[2]\n",
    "        secret_access_key = line[3]\n",
    "        \n",
    "choc_chip_cookie_img = 'choc_chip_cookie.jpeg' #locally saved basic photo\n",
    "pink_sugar_cookie_img = 'pink_sugar_cookie.jpeg' #locally saved basic photo\n",
    "face_upset_img = 'face_upset.png'\n",
    "face_neutral_img = 'face_neutral.png'\n",
    "face_happy_img = 'face_happy.png'\n",
    "\n",
    "# using boto3 to use aws rekognition functionality using the \n",
    "# secret credentials saved in the csv and including region\n",
    "client = boto3.client('rekognition', region_name='us-east-2',\n",
    "                     aws_access_key_id = access_key_id,\n",
    "                     aws_secret_access_key = secret_access_key)\n",
    "\n",
    "# if you have a locally saved image, it needs to be converted\n",
    "# to bytes and then that gets passed into the rekognition functionality\n",
    "with open(choc_chip_cookie_img, 'rb') as choc_chip_cookie:\n",
    "    choc_chip_cookie_bytes = choc_chip_cookie.read()\n",
    "with open(pink_sugar_cookie_img, 'rb') as pink_sugar_cookie:\n",
    "    pink_sugar_cookie_bytes = pink_sugar_cookie.read()\n",
    "\n",
    "with open(face_upset_img, 'rb') as face_upset:\n",
    "    face_upset_bytes = face_upset.read()\n",
    "with open(face_neutral_img, 'rb') as face_neutral:\n",
    "    face_neutral_bytes = face_neutral.read()\n",
    "with open(face_happy_img, 'rb') as face_happy:\n",
    "    face_happy_bytes = face_happy.read()\n",
    "    \n",
    "# perform rekognition task for ***LABELS*** and save label output to response\n",
    "choc_chip_response = client.detect_labels(\n",
    "    Image={'Bytes': choc_chip_cookie_bytes},\n",
    "    MaxLabels=10)\n",
    "pink_sugar_response = client.detect_labels(\n",
    "    Image={'Bytes': pink_sugar_cookie_bytes},\n",
    "    MaxLabels=10)\n",
    "\n",
    "# perform rekognition task for ***FACIAL ATTRIBUTES*** and save label output to response\n",
    "# by default, the rekognition task will only give info on bounding box etc\n",
    "# To get useful information such as emotions, age range, etc you need to switch Attributes to ALL\n",
    "face_upset_response = client.detect_faces(\n",
    "    Image={'Bytes': face_upset_bytes},\n",
    "    Attributes = ['ALL'])\n",
    "face_neutral_response = client.detect_faces(\n",
    "    Image={'Bytes': face_neutral_bytes},\n",
    "    Attributes = ['ALL'])\n",
    "face_happy_response = client.detect_faces(\n",
    "    Image={'Bytes': face_happy_bytes},\n",
    "    Attributes = ['ALL'])\n"
   ]
  },
  {
   "cell_type": "code",
   "execution_count": 45,
   "metadata": {},
   "outputs": [
    {
     "name": "stdout",
     "output_type": "stream",
     "text": [
      "{'Labels': [{'Name': 'Bread', 'Confidence': 96.03101348876953, 'Instances': [{'BoundingBox': {'Width': 0.304768443107605, 'Height': 0.30535101890563965, 'Left': 0.34730684757232666, 'Top': 0.11515714228153229}, 'Confidence': 96.03101348876953}, {'BoundingBox': {'Width': 0.26449480652809143, 'Height': 0.2986818552017212, 'Left': 0.7341976761817932, 'Top': 0.15861476957798004}, 'Confidence': 92.96229553222656}, {'BoundingBox': {'Width': 0.24845807254314423, 'Height': 0.1247088834643364, 'Left': 0.7449105381965637, 'Top': 0.0}, 'Confidence': 92.55546569824219}, {'BoundingBox': {'Width': 0.2908284366130829, 'Height': 0.09654789417982101, 'Left': 0.38053974509239197, 'Top': 0.0}, 'Confidence': 81.6482925415039}, {'BoundingBox': {'Width': 0.2957373559474945, 'Height': 0.1747705191373825, 'Left': 0.004738384857773781, 'Top': 0.0}, 'Confidence': 81.46404266357422}, {'BoundingBox': {'Width': 0.27996426820755005, 'Height': 0.2973284125328064, 'Left': 0.2769024670124054, 'Top': 0.4653069078922272}, 'Confidence': 79.95883178710938}, {'BoundingBox': {'Width': 0.2663242816925049, 'Height': 0.31566041707992554, 'Left': 0.002077632350847125, 'Top': 0.641608476638794}, 'Confidence': 67.47911071777344}, {'BoundingBox': {'Width': 0.2809602618217468, 'Height': 0.2795873284339905, 'Left': 0.5572107434272766, 'Top': 0.44924530386924744}, 'Confidence': 66.78667449951172}], 'Parents': [{'Name': 'Food'}]}, {'Name': 'Food', 'Confidence': 96.03101348876953, 'Instances': [], 'Parents': []}, {'Name': 'Cookie', 'Confidence': 96.01588439941406, 'Instances': [], 'Parents': [{'Name': 'Food'}]}, {'Name': 'Plant', 'Confidence': 82.2473373413086, 'Instances': [], 'Parents': []}, {'Name': 'Bakery', 'Confidence': 72.31056213378906, 'Instances': [], 'Parents': [{'Name': 'Shop'}]}, {'Name': 'Shop', 'Confidence': 72.31056213378906, 'Instances': [], 'Parents': []}, {'Name': 'Sweets', 'Confidence': 71.3380355834961, 'Instances': [], 'Parents': [{'Name': 'Food'}]}, {'Name': 'Dessert', 'Confidence': 67.95026397705078, 'Instances': [], 'Parents': [{'Name': 'Food'}]}, {'Name': 'Cracker', 'Confidence': 67.49307250976562, 'Instances': [], 'Parents': [{'Name': 'Bread'}, {'Name': 'Food'}]}, {'Name': 'Vegetable', 'Confidence': 55.271793365478516, 'Instances': [], 'Parents': [{'Name': 'Plant'}, {'Name': 'Food'}]}], 'LabelModelVersion': '2.0', 'ResponseMetadata': {'RequestId': 'face0fd6-222f-4165-b07f-2422cbe090e8', 'HTTPStatusCode': 200, 'HTTPHeaders': {'content-type': 'application/x-amz-json-1.1', 'date': 'Fri, 04 Jun 2021 21:56:37 GMT', 'x-amzn-requestid': 'face0fd6-222f-4165-b07f-2422cbe090e8', 'content-length': '2151', 'connection': 'keep-alive'}, 'RetryAttempts': 0}}\n"
     ]
    }
   ],
   "source": [
    "print(choc_chip_response)\n"
   ]
  },
  {
   "cell_type": "code",
   "execution_count": 46,
   "metadata": {},
   "outputs": [
    {
     "name": "stdout",
     "output_type": "stream",
     "text": [
      "Detected labels:\n",
      "Bread\t96.031\n",
      "Food\t96.031\n",
      "Cookie\t96.0159\n",
      "Plant\t82.2473\n",
      "Bakery\t72.3106\n",
      "Shop\t72.3106\n",
      "Sweets\t71.338\n",
      "Dessert\t67.9503\n",
      "Cracker\t67.4931\n",
      "Vegetable\t55.2718\n"
     ]
    }
   ],
   "source": [
    "print('Detected labels:' )\n",
    "for label in choc_chip_response['Labels']:\n",
    "    print(label['Name'] + '\\t' + str(round(label['Confidence'], 4)))"
   ]
  },
  {
   "cell_type": "code",
   "execution_count": 47,
   "metadata": {},
   "outputs": [
    {
     "name": "stdout",
     "output_type": "stream",
     "text": [
      "Detected labels:\n",
      "Burger\t96.0284\n",
      "Food\t96.0284\n",
      "Sweets\t95.5612\n",
      "Bakery\t94.7587\n",
      "Dessert\t93.2565\n",
      "Cream\t91.856\n",
      "Sprinkles\t89.3898\n",
      "Cake\t84.3875\n",
      "Icing\t79.6774\n",
      "Pastry\t74.5613\n"
     ]
    }
   ],
   "source": [
    "print('Detected labels:' )\n",
    "for label in pink_sugar_response['Labels']:\n",
    "    print(label['Name'] + '\\t' + str(round(label['Confidence'], 4)))"
   ]
  },
  {
   "cell_type": "code",
   "execution_count": 48,
   "metadata": {},
   "outputs": [
    {
     "name": "stdout",
     "output_type": "stream",
     "text": [
      "{'FaceDetails': [{'BoundingBox': {'Width': 1.1023614406585693, 'Height': 0.8992219567298889, 'Left': 0.013540845364332199, 'Top': 0.07032295316457748}, 'AgeRange': {'Low': 23, 'High': 35}, 'Smile': {'Value': True, 'Confidence': 84.34361267089844}, 'Eyeglasses': {'Value': False, 'Confidence': 99.33621215820312}, 'Sunglasses': {'Value': False, 'Confidence': 99.8534927368164}, 'Gender': {'Value': 'Female', 'Confidence': 87.06004333496094}, 'Beard': {'Value': False, 'Confidence': 92.0462646484375}, 'Mustache': {'Value': False, 'Confidence': 97.94818115234375}, 'EyesOpen': {'Value': False, 'Confidence': 92.97705078125}, 'MouthOpen': {'Value': True, 'Confidence': 74.54232788085938}, 'Emotions': [{'Type': 'SAD', 'Confidence': 60.39643096923828}, {'Type': 'FEAR', 'Confidence': 19.238985061645508}, {'Type': 'HAPPY', 'Confidence': 13.093246459960938}, {'Type': 'CONFUSED', 'Confidence': 1.9378507137298584}, {'Type': 'SURPRISED', 'Confidence': 1.6602569818496704}, {'Type': 'ANGRY', 'Confidence': 1.4859107732772827}, {'Type': 'DISGUSTED', 'Confidence': 1.3493412733078003}, {'Type': 'CALM', 'Confidence': 0.8379786014556885}], 'Landmarks': [{'Type': 'eyeLeft', 'X': 0.21031294763088226, 'Y': 0.3780527710914612}, {'Type': 'eyeRight', 'X': 0.6767039895057678, 'Y': 0.3770594000816345}, {'Type': 'mouthLeft', 'X': 0.24959337711334229, 'Y': 0.6782262921333313}, {'Type': 'mouthRight', 'X': 0.6389406323432922, 'Y': 0.677139937877655}, {'Type': 'nose', 'X': 0.446395605802536, 'Y': 0.5357106924057007}, {'Type': 'leftEyeBrowLeft', 'X': 0.036217235028743744, 'Y': 0.30971044301986694}, {'Type': 'leftEyeBrowRight', 'X': 0.17285284399986267, 'Y': 0.2728017568588257}, {'Type': 'leftEyeBrowUp', 'X': 0.3082643747329712, 'Y': 0.287945419549942}, {'Type': 'rightEyeBrowLeft', 'X': 0.5748395323753357, 'Y': 0.2872605621814728}, {'Type': 'rightEyeBrowRight', 'X': 0.7095630168914795, 'Y': 0.2715564966201782}, {'Type': 'rightEyeBrowUp', 'X': 0.8453807234764099, 'Y': 0.3077722489833832}, {'Type': 'leftEyeLeft', 'X': 0.1268404722213745, 'Y': 0.3772108554840088}, {'Type': 'leftEyeRight', 'X': 0.3024187386035919, 'Y': 0.3806612491607666}, {'Type': 'leftEyeUp', 'X': 0.20889119803905487, 'Y': 0.36282312870025635}, {'Type': 'leftEyeDown', 'X': 0.21236419677734375, 'Y': 0.3913238048553467}, {'Type': 'rightEyeLeft', 'X': 0.5838908553123474, 'Y': 0.3800663352012634}, {'Type': 'rightEyeRight', 'X': 0.758298397064209, 'Y': 0.3758058249950409}, {'Type': 'rightEyeUp', 'X': 0.6769043803215027, 'Y': 0.36176446080207825}, {'Type': 'rightEyeDown', 'X': 0.6740050315856934, 'Y': 0.3902602195739746}, {'Type': 'noseLeft', 'X': 0.35670071840286255, 'Y': 0.5699470043182373}, {'Type': 'noseRight', 'X': 0.5289031863212585, 'Y': 0.5695430636405945}, {'Type': 'mouthUp', 'X': 0.44339728355407715, 'Y': 0.6405892968177795}, {'Type': 'mouthDown', 'X': 0.4432618319988251, 'Y': 0.7312820553779602}, {'Type': 'leftPupil', 'X': 0.21031294763088226, 'Y': 0.3780527710914612}, {'Type': 'rightPupil', 'X': 0.6767039895057678, 'Y': 0.3770594000816345}, {'Type': 'upperJawlineLeft', 'X': -0.06884177029132843, 'Y': 0.38651716709136963}, {'Type': 'midJawlineLeft', 'X': 0.02829178050160408, 'Y': 0.7095829844474792}, {'Type': 'chinBottom', 'X': 0.44274449348449707, 'Y': 0.887152373790741}, {'Type': 'midJawlineRight', 'X': 0.8510705828666687, 'Y': 0.7079524993896484}, {'Type': 'upperJawlineRight', 'X': 0.9455942511558533, 'Y': 0.38424259424209595}], 'Pose': {'Roll': 0.792436420917511, 'Yaw': -0.08231843262910843, 'Pitch': 4.337292194366455}, 'Quality': {'Brightness': 86.10238647460938, 'Sharpness': 92.22801208496094}, 'Confidence': 99.99970245361328}], 'ResponseMetadata': {'RequestId': '15bf1116-0d48-4435-9866-5b065c53751d', 'HTTPStatusCode': 200, 'HTTPHeaders': {'content-type': 'application/x-amz-json-1.1', 'date': 'Fri, 04 Jun 2021 21:56:38 GMT', 'x-amzn-requestid': '15bf1116-0d48-4435-9866-5b065c53751d', 'content-length': '3346', 'connection': 'keep-alive'}, 'RetryAttempts': 0}}\n"
     ]
    }
   ],
   "source": [
    "print(face_upset_response)"
   ]
  },
  {
   "cell_type": "code",
   "execution_count": 49,
   "metadata": {},
   "outputs": [
    {
     "name": "stdout",
     "output_type": "stream",
     "text": [
      "Detected labels:\n",
      "Age Range: \n",
      "{'Low': 23, 'High': 35}\n",
      "Smile: \n",
      "True\t84.3436\n",
      "Emotions: \n",
      "SAD\t60.3964\n",
      "FEAR\t19.239\n",
      "HAPPY\t13.0932\n",
      "CONFUSED\t1.9379\n",
      "SURPRISED\t1.6603\n",
      "ANGRY\t1.4859\n",
      "DISGUSTED\t1.3493\n",
      "CALM\t0.838\n"
     ]
    }
   ],
   "source": [
    "print('Detected labels:' )\n",
    "for label in face_upset_response['FaceDetails']:\n",
    "    print('Age Range: ')\n",
    "    print(label['AgeRange'] )\n",
    "    print('Smile: ' )\n",
    "    print(str(label['Smile']['Value']) + '\\t' + str(round(label['Smile']['Confidence'], 4)))\n",
    "    print('Emotions: ' )\n",
    "    for emo in label['Emotions']:\n",
    "        print(emo['Type'] + '\\t' + str(round(emo['Confidence'], 4)))"
   ]
  },
  {
   "cell_type": "code",
   "execution_count": 50,
   "metadata": {},
   "outputs": [
    {
     "name": "stdout",
     "output_type": "stream",
     "text": [
      "Detected labels:\n",
      "Age Range: \n",
      "{'Low': 22, 'High': 34}\n",
      "Smile: \n",
      "True\t98.0314\n",
      "Emotions: \n",
      "HAPPY\t92.5233\n",
      "SURPRISED\t3.0949\n",
      "CALM\t1.3765\n",
      "CONFUSED\t1.1927\n",
      "DISGUSTED\t0.6064\n",
      "SAD\t0.4318\n",
      "ANGRY\t0.3957\n",
      "FEAR\t0.3787\n"
     ]
    }
   ],
   "source": [
    "print('Detected labels:' )\n",
    "for label in face_happy_response['FaceDetails']:\n",
    "    print('Age Range: ')\n",
    "    print(label['AgeRange'] )\n",
    "    print('Smile: ' )\n",
    "    print(str(label['Smile']['Value']) + '\\t' + str(round(label['Smile']['Confidence'], 4)))\n",
    "    print('Emotions: ' )\n",
    "    for emo in label['Emotions']:\n",
    "        print(emo['Type'] + '\\t' + str(round(emo['Confidence'], 4)))"
   ]
  },
  {
   "cell_type": "code",
   "execution_count": 51,
   "metadata": {},
   "outputs": [
    {
     "name": "stdout",
     "output_type": "stream",
     "text": [
      "Detected labels:\n",
      "Age Range: \n",
      "{'Low': 22, 'High': 34}\n",
      "Smile: \n",
      "False\t99.7166\n",
      "Emotions: \n",
      "CALM\t89.9823\n",
      "SAD\t9.5926\n",
      "ANGRY\t0.1623\n",
      "CONFUSED\t0.1329\n",
      "SURPRISED\t0.0772\n",
      "HAPPY\t0.0243\n",
      "DISGUSTED\t0.0159\n",
      "FEAR\t0.0126\n"
     ]
    }
   ],
   "source": [
    "print('Detected labels:' )\n",
    "for label in face_neutral_response['FaceDetails']:\n",
    "    print('Age Range: ')\n",
    "    print(label['AgeRange'] )\n",
    "    print('Smile: ' )\n",
    "    print(str(label['Smile']['Value']) + '\\t' + str(round(label['Smile']['Confidence'], 4)))\n",
    "    print('Emotions: ' )\n",
    "    for emo in label['Emotions']:\n",
    "        print(emo['Type'] + '\\t' + str(round(emo['Confidence'], 4)))"
   ]
  },
  {
   "cell_type": "code",
   "execution_count": null,
   "metadata": {},
   "outputs": [],
   "source": []
  }
 ],
 "metadata": {
  "kernelspec": {
   "display_name": "Python 3",
   "language": "python",
   "name": "python3"
  },
  "language_info": {
   "codemirror_mode": {
    "name": "ipython",
    "version": 3
   },
   "file_extension": ".py",
   "mimetype": "text/x-python",
   "name": "python",
   "nbconvert_exporter": "python",
   "pygments_lexer": "ipython3",
   "version": "3.7.3"
  }
 },
 "nbformat": 4,
 "nbformat_minor": 2
}
